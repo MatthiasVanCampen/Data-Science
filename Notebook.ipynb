{
    "cells": [
        {
            "metadata": {
                "collapsed": true
            },
            "cell_type": "markdown",
            "source": "# My Jupyter Notebook on IBM Watson Studio"
        },
        {
            "metadata": {},
            "cell_type": "markdown",
            "source": "<b>Matthias Van Campen</b>"
        },
        {
            "metadata": {},
            "cell_type": "markdown",
            "source": "Project Controls Engineer"
        },
        {
            "metadata": {},
            "cell_type": "markdown",
            "source": "<i> The Construction sector and Project management in general has not yet been flooded by Data Science. As Projects are 'by definition' unique the difficulty in finding well structured data makes it a big leap to even start some innovations. However in the past years I've had more and more BI tasks and I want to extend my passive 'description' of data and turn it into much more valuable 'predictions' of outcomes. </i>"
        },
        {
            "metadata": {},
            "cell_type": "markdown",
            "source": "### below code returns a random number under 100 and whether or not it is prime"
        },
        {
            "metadata": {},
            "cell_type": "code",
            "source": "from random import randint\ni=randint(0,100)\nprint(\"The random number is \"+str(i))\nif i==2 or i==3 or i==5 or i==7 or (i%2!=0 and i%3!=0 and i%5!=0 and i%7!=0):\n    print(str(i) +\" is a Prime\")\nelse:\n    print(str(i) +\" is not a Prime\")",
            "execution_count": 38,
            "outputs": [
                {
                    "output_type": "stream",
                    "text": "The random number is 58\n58 is not a Prime\n",
                    "name": "stdout"
                }
            ]
        },
        {
            "metadata": {},
            "cell_type": "markdown",
            "source": "| strikethrough | link |\n| ------ | ------ |\n| <s>whooopsie</s> | <a href=\"https://dataplatform.cloud.ibm.com/gallery\">Maybe this links to IBM Cloud Gallery</a>  |"
        },
        {
            "metadata": {},
            "cell_type": "markdown",
            "source": ""
        }
    ],
    "metadata": {
        "kernelspec": {
            "name": "python3",
            "display_name": "Python 3.9",
            "language": "python"
        },
        "language_info": {
            "name": "python",
            "version": "3.9.12",
            "mimetype": "text/x-python",
            "codemirror_mode": {
                "name": "ipython",
                "version": 3
            },
            "pygments_lexer": "ipython3",
            "nbconvert_exporter": "python",
            "file_extension": ".py"
        }
    },
    "nbformat": 4,
    "nbformat_minor": 1
}